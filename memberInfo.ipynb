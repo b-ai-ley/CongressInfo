{
 "cells": [
  {
   "cell_type": "code",
   "execution_count": null,
   "metadata": {},
   "outputs": [
    {
     "ename": "",
     "evalue": "",
     "output_type": "error",
     "traceback": [
      "\u001b[1;31mFailed to start the Kernel. \n",
      "\u001b[1;31mKernel Python 3.12.4 64-bit is not usable. Check the Jupyter output tab for more information. \n",
      "\u001b[1;31mView Jupyter <a href='command:jupyter.viewOutput'>log</a> for further details."
     ]
    }
   ],
   "source": [
    "# imports for exploring members of congress in data\n",
    "import numpy as np\n",
    "import pandas as pd\n",
    "import yaml as yaml\n",
    "import json"
   ]
  },
  {
   "cell_type": "code",
   "execution_count": 14,
   "metadata": {},
   "outputs": [],
   "source": [
    "# get congress files\n",
    "## source https://github.com/unitedstates/congress-legislators\n",
    "\n",
    "\n",
    "committee_membership = []\n",
    "\n",
    "committees_current = []\n",
    "committees_historical = []\n",
    "\n",
    "legislators_current = []\n",
    "legislators_historical = []\n",
    "\n",
    "legislators_district_office = []\n",
    "legislators_social_media = []\n",
    "\n",
    "\n"
   ]
  },
  {
   "cell_type": "code",
   "execution_count": 15,
   "metadata": {},
   "outputs": [],
   "source": [
    "# load all members\n",
    "\n",
    "\n",
    "def load_legislators(file_path):\n",
    "    # yaml to json\n",
    "    with open(file_path, 'r') as file:\n",
    "        data = yaml.safe_load(file)\n",
    "    return data\n",
    "\n",
    "def load_all_legislators():\n",
    "    # temp: use local filepaths\n",
    "    ## TODO: get them from source url\n",
    "    current_legislator_fp = \"data/legislators-current.yaml\"\n",
    "    historical_legislator_fp = \"data/legislators-historical.yaml\"\n",
    "    \n",
    "    # load legislators\n",
    "    current_legislators = load_legislators(current_legislator_fp)\n",
    "    historical_legislators = load_legislators(historical_legislator_fp)\n",
    "    \n",
    "    \n",
    "    \n",
    "    \n",
    "    legislator_json = {\n",
    "      'id': {},\n",
    "    }"
   ]
  },
  {
   "cell_type": "code",
   "execution_count": null,
   "metadata": {},
   "outputs": [
    {
     "ename": "",
     "evalue": "",
     "output_type": "error",
     "traceback": [
      "\u001b[1;31mFailed to start the Kernel. \n",
      "\u001b[1;31mKernel Python 3.12.4 64-bit is not usable. Check the Jupyter output tab for more information. \n",
      "\u001b[1;31mView Jupyter <a href='command:jupyter.viewOutput'>log</a> for further details."
     ]
    }
   ],
   "source": [
    "# test\n",
    "current_legislator_fp = \"data/legislators-current.yaml\"\n",
    "\n",
    "\n",
    "df = pd.DataFrame(load_legislators(current_legislator_fp))\n",
    "\n",
    "\n",
    "df.head()\n",
    "\n",
    "\n",
    "\n"
   ]
  },
  {
   "cell_type": "markdown",
   "metadata": {},
   "source": []
  },
  {
   "cell_type": "code",
   "execution_count": null,
   "metadata": {},
   "outputs": [],
   "source": []
  },
  {
   "cell_type": "code",
   "execution_count": 25,
   "metadata": {},
   "outputs": [
    {
     "ename": "AttributeError",
     "evalue": "'list' object has no attribute 'keys'",
     "output_type": "error",
     "traceback": [
      "\u001b[0;31m---------------------------------------------------------------------------\u001b[0m",
      "\u001b[0;31mAttributeError\u001b[0m                            Traceback (most recent call last)",
      "Cell \u001b[0;32mIn[25], line 5\u001b[0m\n\u001b[1;32m      2\u001b[0m \u001b[39mwith\u001b[39;00m \u001b[39mopen\u001b[39m(\u001b[39m'\u001b[39m\u001b[39mdata/test.json\u001b[39m\u001b[39m'\u001b[39m) \u001b[39mas\u001b[39;00m fp:\n\u001b[1;32m      3\u001b[0m     data \u001b[39m=\u001b[39m json\u001b[39m.\u001b[39mload(fp)\n\u001b[0;32m----> 5\u001b[0m \u001b[39mprint\u001b[39m(data\u001b[39m.\u001b[39;49mkeys())\n",
      "\u001b[0;31mAttributeError\u001b[0m: 'list' object has no attribute 'keys'"
     ]
    }
   ],
   "source": [
    "# load json from /data\n",
    "with open('data/test.json') as fp:\n",
    "    data = json.load(fp)\n",
    "\n",
    "print(data.keys())\n"
   ]
  },
  {
   "cell_type": "code",
   "execution_count": null,
   "metadata": {},
   "outputs": [],
   "source": []
  }
 ],
 "metadata": {
  "kernelspec": {
   "display_name": "Python 3.12.4 64-bit",
   "language": "python",
   "name": "python3"
  },
  "language_info": {
   "codemirror_mode": {
    "name": "ipython",
    "version": 3
   },
   "file_extension": ".py",
   "mimetype": "text/x-python",
   "name": "python",
   "nbconvert_exporter": "python",
   "pygments_lexer": "ipython3",
   "version": "3.12.4"
  },
  "orig_nbformat": 4,
  "vscode": {
   "interpreter": {
    "hash": "aee8b7b246df8f9039afb4144a1f6fd8d2ca17a180786b69acc140d282b71a49"
   }
  }
 },
 "nbformat": 4,
 "nbformat_minor": 2
}
